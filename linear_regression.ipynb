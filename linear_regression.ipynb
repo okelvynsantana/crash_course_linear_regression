{
  "nbformat": 4,
  "nbformat_minor": 0,
  "metadata": {
    "colab": {
      "name": "linear_regression.ipynb",
      "provenance": [],
      "authorship_tag": "ABX9TyNicnDPecKUzdJLqtfjfAHY",
      "include_colab_link": true
    },
    "kernelspec": {
      "name": "python3",
      "display_name": "Python 3"
    }
  },
  "cells": [
    {
      "cell_type": "markdown",
      "metadata": {
        "id": "view-in-github",
        "colab_type": "text"
      },
      "source": [
        "<a href=\"https://colab.research.google.com/github/okelvynsantana/crash_course_linear_regression/blob/main/linear_regression.ipynb\" target=\"_parent\"><img src=\"https://colab.research.google.com/assets/colab-badge.svg\" alt=\"Open In Colab\"/></a>"
      ]
    },
    {
      "cell_type": "code",
      "metadata": {
        "colab": {
          "base_uri": "https://localhost:8080/"
        },
        "id": "otoD4Xs3Medu",
        "outputId": "c5fcd679-cf26-4426-a1a9-4e288335ca52"
      },
      "source": [
        "!pip3 install wget\n"
      ],
      "execution_count": null,
      "outputs": [
        {
          "output_type": "stream",
          "text": [
            "Collecting wget\n",
            "  Downloading wget-3.2.zip (10 kB)\n",
            "Building wheels for collected packages: wget\n",
            "  Building wheel for wget (setup.py) ... \u001b[?25l\u001b[?25hdone\n",
            "  Created wheel for wget: filename=wget-3.2-py3-none-any.whl size=9672 sha256=cc46650774f7365fa8aa647488a7c2a7d9d56aca31c0c6d7e4e4cb0c61bfc3da\n",
            "  Stored in directory: /root/.cache/pip/wheels/a1/b6/7c/0e63e34eb06634181c63adacca38b79ff8f35c37e3c13e3c02\n",
            "Successfully built wget\n",
            "Installing collected packages: wget\n",
            "Successfully installed wget-3.2\n"
          ],
          "name": "stdout"
        }
      ]
    },
    {
      "cell_type": "code",
      "metadata": {
        "id": "IS4eAoA2Ul78",
        "colab": {
          "base_uri": "https://localhost:8080/"
        },
        "outputId": "faa085d0-7bb9-4e86-dc75-2d843aad9145"
      },
      "source": [
        "!wget https://raw.githubusercontent.com/diogocortiz/Crash-Course-IA/master/RegressaoLinear/FuelConsumptionCo2.csv\n"
      ],
      "execution_count": null,
      "outputs": [
        {
          "output_type": "stream",
          "text": [
            "--2021-08-17 03:41:26--  https://raw.githubusercontent.com/diogocortiz/Crash-Course-IA/master/RegressaoLinear/FuelConsumptionCo2.csv\n",
            "Resolving raw.githubusercontent.com (raw.githubusercontent.com)... 185.199.108.133, 185.199.109.133, 185.199.110.133, ...\n",
            "Connecting to raw.githubusercontent.com (raw.githubusercontent.com)|185.199.108.133|:443... connected.\n",
            "HTTP request sent, awaiting response... 200 OK\n",
            "Length: 72629 (71K) [text/plain]\n",
            "Saving to: ‘FuelConsumptionCo2.csv’\n",
            "\n",
            "\rFuelConsumptionCo2.   0%[                    ]       0  --.-KB/s               \rFuelConsumptionCo2. 100%[===================>]  70.93K  --.-KB/s    in 0.002s  \n",
            "\n",
            "2021-08-17 03:41:26 (35.9 MB/s) - ‘FuelConsumptionCo2.csv’ saved [72629/72629]\n",
            "\n"
          ],
          "name": "stdout"
        }
      ]
    },
    {
      "cell_type": "markdown",
      "metadata": {
        "id": "QVJuzBFBN1OR"
      },
      "source": [
        "**Importação das bibliotecas**"
      ]
    },
    {
      "cell_type": "code",
      "metadata": {
        "id": "al2iVvHsNy1p"
      },
      "source": [
        "\n",
        "from matplotlib import pyplot as plt\n",
        "import pandas as pd\n",
        "import pylab as pl\n",
        "import numpy as np\n",
        "from sklearn import linear_model\n",
        "from sklearn.metrics import r2_score, mean_squared_error,mean_absolute_error\n",
        "from sklearn.model_selection import train_test_split\n",
        "from math import sqrt"
      ],
      "execution_count": null,
      "outputs": []
    },
    {
      "cell_type": "code",
      "metadata": {
        "colab": {
          "base_uri": "https://localhost:8080/"
        },
        "id": "7VvALI8jN9X0",
        "outputId": "7be7256d-ca02-4285-91ff-2e8ebde244b5"
      },
      "source": [
        "df = pd.read_csv(\"FuelConsumptionCo2.csv\")\n",
        "\n",
        "print(df.head())"
      ],
      "execution_count": null,
      "outputs": [
        {
          "output_type": "stream",
          "text": [
            "   MODELYEAR   MAKE  ... FUELCONSUMPTION_COMB_MPG CO2EMISSIONS\n",
            "0       2014  ACURA  ...                       33          196\n",
            "1       2014  ACURA  ...                       29          221\n",
            "2       2014  ACURA  ...                       48          136\n",
            "3       2014  ACURA  ...                       25          255\n",
            "4       2014  ACURA  ...                       27          244\n",
            "\n",
            "[5 rows x 13 columns]\n"
          ],
          "name": "stdout"
        }
      ]
    },
    {
      "cell_type": "code",
      "metadata": {
        "colab": {
          "base_uri": "https://localhost:8080/"
        },
        "id": "O50cEVbBPFi8",
        "outputId": "9c69a0b3-264a-4ef0-aae6-e0a5439977d1"
      },
      "source": [
        "print(df.describe())"
      ],
      "execution_count": null,
      "outputs": [
        {
          "output_type": "stream",
          "text": [
            "       MODELYEAR   ENGINESIZE  ...  FUELCONSUMPTION_COMB_MPG  CO2EMISSIONS\n",
            "count     1067.0  1067.000000  ...               1067.000000   1067.000000\n",
            "mean      2014.0     3.346298  ...                 26.441425    256.228679\n",
            "std          0.0     1.415895  ...                  7.468702     63.372304\n",
            "min       2014.0     1.000000  ...                 11.000000    108.000000\n",
            "25%       2014.0     2.000000  ...                 21.000000    207.000000\n",
            "50%       2014.0     3.400000  ...                 26.000000    251.000000\n",
            "75%       2014.0     4.300000  ...                 31.000000    294.000000\n",
            "max       2014.0     8.400000  ...                 60.000000    488.000000\n",
            "\n",
            "[8 rows x 8 columns]\n"
          ],
          "name": "stdout"
        }
      ]
    },
    {
      "cell_type": "code",
      "metadata": {
        "colab": {
          "base_uri": "https://localhost:8080/"
        },
        "id": "9bZW32yTPYtu",
        "outputId": "3fedf2ba-71dc-4afb-8839-5d2484653078"
      },
      "source": [
        "motors = df[['ENGINESIZE']]\n",
        "co2 = df[['CO2EMISSIONS']]\n",
        "\n",
        "print(motors.head())"
      ],
      "execution_count": null,
      "outputs": [
        {
          "output_type": "stream",
          "text": [
            "   ENGINESIZE\n",
            "0         2.0\n",
            "1         2.4\n",
            "2         1.5\n",
            "3         3.5\n",
            "4         3.5\n"
          ],
          "name": "stdout"
        }
      ]
    },
    {
      "cell_type": "code",
      "metadata": {
        "colab": {
          "base_uri": "https://localhost:8080/"
        },
        "id": "xhIyE4c9QHI9",
        "outputId": "9c0b453d-f345-4bdf-d37b-884dbf1c72f1"
      },
      "source": [
        "train_motors, test_motors, train_co2, test_co2 = train_test_split(motors, co2, test_size=0.2, random_state=42)\n",
        "print(type(train_motors))"
      ],
      "execution_count": null,
      "outputs": [
        {
          "output_type": "stream",
          "text": [
            "<class 'pandas.core.frame.DataFrame'>\n"
          ],
          "name": "stdout"
        }
      ]
    },
    {
      "cell_type": "code",
      "metadata": {
        "colab": {
          "base_uri": "https://localhost:8080/",
          "height": 280
        },
        "id": "sexk7zAzROaw",
        "outputId": "40d74289-f63b-4d3d-ded9-982868a80b3e"
      },
      "source": [
        "plt.scatter(train_motors, train_co2, color='red')\n",
        "plt.xlabel(\"Motor\")\n",
        "plt.ylabel(\"CO2 emission\")\n",
        "plt.show()"
      ],
      "execution_count": null,
      "outputs": [
        {
          "output_type": "display_data",
          "data": {
            "image/png": "[encoded data removed]",
            "text/plain": [
              "<Figure size 432x288 with 1 Axes>"
            ]
          },
          "metadata": {
            "tags": [],
            "needs_background": "light"
          }
        }
      ]
    },
    {
      "cell_type": "code",
      "metadata": {
        "colab": {
          "base_uri": "https://localhost:8080/"
        },
        "id": "coj-91B0SF7l",
        "outputId": "d6a42bcf-f01c-4752-b14f-5d81029711f8"
      },
      "source": [
        "# Create a Linear Regression Model\n",
        "model = linear_model.LinearRegression()\n",
        "\n",
        "# train model with trains dataset\n",
        "model.fit(train_motors, train_co2)"
      ],
      "execution_count": null,
      "outputs": [
        {
          "output_type": "execute_result",
          "data": {
            "text/plain": [
              "LinearRegression(copy_X=True, fit_intercept=True, n_jobs=None, normalize=False)"
            ]
          },
          "metadata": {
            "tags": []
          },
          "execution_count": 16
        }
      ]
    },
    {
      "cell_type": "code",
      "metadata": {
        "colab": {
          "base_uri": "https://localhost:8080/"
        },
        "id": "ibf0ro51S1Mi",
        "outputId": "e4cb4d8c-ff1e-4970-e066-2ec40856584f"
      },
      "source": [
        "print('(A) interceptor', model.intercept_)\n",
        "print('(B) inclinação', model.coef_)"
      ],
      "execution_count": null,
      "outputs": [
        {
          "output_type": "stream",
          "text": [
            "(A) interceptor [126.28970217]\n",
            "(B) inclinação [[38.99297872]]\n"
          ],
          "name": "stdout"
        }
      ]
    },
    {
      "cell_type": "code",
      "metadata": {
        "colab": {
          "base_uri": "https://localhost:8080/",
          "height": 280
        },
        "id": "HZMijq3UTVRi",
        "outputId": "4b21894e-394a-45a2-e703-3a03bbd1bd76"
      },
      "source": [
        "plt.scatter(train_motors, train_co2, color='blue')\n",
        "plt.plot(train_motors, model.coef_[0][0]*train_motors + model.intercept_[0], '-r')\n",
        "plt.xlabel('Motors')\n",
        "plt.ylabel('CO2 emission')\n",
        "plt.show()"
      ],
      "execution_count": null,
      "outputs": [
        {
          "output_type": "display_data",
          "data": {
            "image/png": "[encoded data removed]",
            "text/plain": [
              "<Figure size 432x288 with 1 Axes>"
            ]
          },
          "metadata": {
            "tags": [],
            "needs_background": "light"
          }
        }
      ]
    },
    {
      "cell_type": "code",
      "metadata": {
        "id": "hRdp5DmgUd1q"
      },
      "source": [
        "co2_predictions = model.predict(test_motors)"
      ],
      "execution_count": null,
      "outputs": []
    },
    {
      "cell_type": "code",
      "metadata": {
        "colab": {
          "base_uri": "https://localhost:8080/",
          "height": 282
        },
        "id": "odnQYlxJU_GK",
        "outputId": "96628d2d-5f6f-4ba6-9811-b4fb581de6c7"
      },
      "source": [
        "plt.scatter(test_motors, test_co2, color='blue')\n",
        "plt.plot(test_motors, model.coef_[0][0]*test_motors + model.intercept_[0], '-r')"
      ],
      "execution_count": null,
      "outputs": [
        {
          "output_type": "execute_result",
          "data": {
            "text/plain": [
              "[<matplotlib.lines.Line2D at 0x7f283e86f750>]"
            ]
          },
          "metadata": {
            "tags": []
          },
          "execution_count": 22
        },
        {
          "output_type": "display_data",
          "data": {
            "image/png": "[encoded data removed]",
            "text/plain": [
              "<Figure size 432x288 with 1 Axes>"
            ]
          },
          "metadata": {
            "tags": [],
            "needs_background": "light"
          }
        }
      ]
    },
    {
      "cell_type": "code",
      "metadata": {
        "colab": {
          "base_uri": "https://localhost:8080/"
        },
        "id": "ewG4elzdVnzN",
        "outputId": "ee77688c-ef2e-44d0-b58f-70089f336d4c"
      },
      "source": [
        "print(\"Soma dos erros ao quadrado (SSE): %2.f\" % np.sum((co2_predictions - test_co2)**2))\n",
        "print(\"Erro Quadrático Médio (MSE): %.2f\" % mean_squared_error(test_co2, co2_predictions))\n",
        "print(\"Erro Médio Absoluto (MAE): %.2f\" % mean_absolute_error(test_co2, co2_predictions))\n",
        "print (\"Raiz do Erro Quadrático Médio (RMSE): %.2f \" % sqrt(mean_squared_error(test_co2, co2_predictions)))\n",
        "print(\"R2-score: %.2f\" % r2_score(co2_predictions , test_co2) )"
      ],
      "execution_count": null,
      "outputs": [
        {
          "output_type": "stream",
          "text": [
            "Soma dos erros ao quadrado (SSE): 210991\n",
            "Erro Quadrático Médio (MSE): 985.94\n",
            "Erro Médio Absoluto (MAE): 24.10\n",
            "Raiz do Erro Quadrático Médio (RMSE): 31.40 \n",
            "R2-score: 0.68\n"
          ],
          "name": "stdout"
        }
      ]
    }
  ]
}